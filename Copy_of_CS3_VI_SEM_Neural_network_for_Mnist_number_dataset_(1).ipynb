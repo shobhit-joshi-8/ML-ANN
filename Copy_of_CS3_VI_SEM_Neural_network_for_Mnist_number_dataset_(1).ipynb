{
  "nbformat": 4,
  "nbformat_minor": 0,
  "metadata": {
    "kernelspec": {
      "name": "python3",
      "display_name": "Python 3"
    },
    "toc": {
      "nav_menu": {},
      "number_sections": true,
      "sideBar": true,
      "skip_h1_title": false,
      "toc_cell": true,
      "toc_position": {},
      "toc_section_display": "block",
      "toc_window_display": false
    },
    "colab": {
      "provenance": [],
      "include_colab_link": true
    },
    "accelerator": "GPU"
  },
  "cells": [
    {
      "cell_type": "markdown",
      "metadata": {
        "id": "view-in-github",
        "colab_type": "text"
      },
      "source": [
        "<a href=\"https://colab.research.google.com/github/shobhit-joshi-8/ML-ANN/blob/main/Copy_of_CS3_VI_SEM_Neural_network_for_Mnist_number_dataset_(1).ipynb\" target=\"_parent\"><img src=\"https://colab.research.google.com/assets/colab-badge.svg\" alt=\"Open In Colab\"/></a>"
      ]
    },
    {
      "cell_type": "markdown",
      "source": [],
      "metadata": {
        "id": "aK_1LHdwQpF9"
      }
    },
    {
      "cell_type": "markdown",
      "metadata": {
        "id": "view-in-github"
      },
      "source": [
        "<a href=\"https://colab.research.google.com/github/Mustafalw02/Machine-Learning-Lab-Work/blob/master/Neural_network_for_Mnist_number_dataset.ipynb\" target=\"_parent\"><img src=\"https://colab.research.google.com/assets/colab-badge.svg\" alt=\"Open In Colab\"/></a>"
      ]
    },
    {
      "cell_type": "markdown",
      "metadata": {
        "toc": true,
        "id": "zQvT7bhRzp4e"
      },
      "source": [
        "<h1>Table of Contents<span class=\"tocSkip\"></span></h1>\n",
        "<div class=\"toc\" style=\"margin-top: 1em;\"><ul class=\"toc-item\"><li><span><a href=\"#Loading-the-MNIST-dataset-in-Keras\" data-toc-modified-id=\"Loading-the-MNIST-dataset-in-Keras-1\"><span class=\"toc-item-num\">1&nbsp;&nbsp;</span>Loading the MNIST dataset in Keras</a></span></li><li><span><a href=\"#The-network-architecture\" data-toc-modified-id=\"The-network-architecture-2\"><span class=\"toc-item-num\">2&nbsp;&nbsp;</span>The network architecture</a></span></li><li><span><a href=\"#The-compilation-step\" data-toc-modified-id=\"The-compilation-step-3\"><span class=\"toc-item-num\">3&nbsp;&nbsp;</span>The compilation step</a></span></li><li><span><a href=\"#Preparing-the-image-data\" data-toc-modified-id=\"Preparing-the-image-data-4\"><span class=\"toc-item-num\">4&nbsp;&nbsp;</span>Preparing the image data</a></span></li><li><span><a href=\"#Preparing-the-labels\" data-toc-modified-id=\"Preparing-the-labels-5\"><span class=\"toc-item-num\">5&nbsp;&nbsp;</span>Preparing the labels</a></span></li><li><span><a href=\"#Training-and-Testing\" data-toc-modified-id=\"Training-and-Testing-6\"><span class=\"toc-item-num\">6&nbsp;&nbsp;</span>Training and Testing</a></span></li></ul></div>"
      ]
    },
    {
      "cell_type": "markdown",
      "metadata": {
        "id": "GSee4zKUzp4i"
      },
      "source": [
        "# Loading the MNIST dataset in Keras"
      ]
    },
    {
      "cell_type": "code",
      "metadata": {
        "id": "6a8IveFHzp4l"
      },
      "source": [
        "from keras.datasets import mnist"
      ],
      "execution_count": 1,
      "outputs": []
    },
    {
      "cell_type": "code",
      "metadata": {
        "id": "LQPmnZ8xzp4v",
        "colab": {
          "base_uri": "https://localhost:8080/"
        },
        "outputId": "2f5795b1-84ca-4b93-c4dd-78b2f92eeb2f"
      },
      "source": [
        "(train_images, train_labels), (test_images, test_labels) = mnist.load_data()"
      ],
      "execution_count": 2,
      "outputs": [
        {
          "output_type": "stream",
          "name": "stdout",
          "text": [
            "Downloading data from https://storage.googleapis.com/tensorflow/tf-keras-datasets/mnist.npz\n",
            "11490434/11490434 [==============================] - 2s 0us/step\n"
          ]
        }
      ]
    },
    {
      "cell_type": "markdown",
      "metadata": {
        "id": "mnZfS9HYzp4z"
      },
      "source": [
        "- The images are encoded as Numpy arrays, and the labels are an array of digits, ranging from 0 to 9."
      ]
    },
    {
      "cell_type": "code",
      "metadata": {
        "id": "VFdoffSmzp41",
        "colab": {
          "base_uri": "https://localhost:8080/"
        },
        "outputId": "abd271e5-4da0-4cab-b057-33cf06815c3b"
      },
      "source": [
        "train_images.shape\n"
      ],
      "execution_count": 3,
      "outputs": [
        {
          "output_type": "execute_result",
          "data": {
            "text/plain": [
              "(60000, 28, 28)"
            ]
          },
          "metadata": {},
          "execution_count": 3
        }
      ]
    },
    {
      "cell_type": "code",
      "metadata": {
        "id": "tD65nC-vzp45",
        "colab": {
          "base_uri": "https://localhost:8080/"
        },
        "outputId": "8002affc-ad0b-4230-9652-78b61523ed59"
      },
      "source": [
        "len(train_labels)"
      ],
      "execution_count": 4,
      "outputs": [
        {
          "output_type": "execute_result",
          "data": {
            "text/plain": [
              "60000"
            ]
          },
          "metadata": {},
          "execution_count": 4
        }
      ]
    },
    {
      "cell_type": "code",
      "metadata": {
        "id": "IX9LpWNazp4_",
        "colab": {
          "base_uri": "https://localhost:8080/"
        },
        "outputId": "e186e9c3-728a-4426-c752-ed28f5c8ad2a"
      },
      "source": [
        "train_labels"
      ],
      "execution_count": 5,
      "outputs": [
        {
          "output_type": "execute_result",
          "data": {
            "text/plain": [
              "array([5, 0, 4, ..., 5, 6, 8], dtype=uint8)"
            ]
          },
          "metadata": {},
          "execution_count": 5
        }
      ]
    },
    {
      "cell_type": "code",
      "metadata": {
        "id": "SG0L5p4Dzp5D",
        "colab": {
          "base_uri": "https://localhost:8080/"
        },
        "outputId": "2ea3ebb5-2dea-4198-fe3d-e0c90f075f76"
      },
      "source": [
        "test_images.shape"
      ],
      "execution_count": 6,
      "outputs": [
        {
          "output_type": "execute_result",
          "data": {
            "text/plain": [
              "(10000, 28, 28)"
            ]
          },
          "metadata": {},
          "execution_count": 6
        }
      ]
    },
    {
      "cell_type": "code",
      "metadata": {
        "id": "MimOH_Xnzp5I",
        "colab": {
          "base_uri": "https://localhost:8080/"
        },
        "outputId": "b4a66a23-cb81-4d90-98d9-732f66f10f0f"
      },
      "source": [
        "len(test_labels)"
      ],
      "execution_count": 7,
      "outputs": [
        {
          "output_type": "execute_result",
          "data": {
            "text/plain": [
              "10000"
            ]
          },
          "metadata": {},
          "execution_count": 7
        }
      ]
    },
    {
      "cell_type": "code",
      "metadata": {
        "id": "8EHR0v0Bzp5M",
        "colab": {
          "base_uri": "https://localhost:8080/"
        },
        "outputId": "6918ba66-4c33-4bb0-9661-bb2f6aa7cde0"
      },
      "source": [
        "test_labels"
      ],
      "execution_count": 8,
      "outputs": [
        {
          "output_type": "execute_result",
          "data": {
            "text/plain": [
              "array([7, 2, 1, ..., 4, 5, 6], dtype=uint8)"
            ]
          },
          "metadata": {},
          "execution_count": 8
        }
      ]
    },
    {
      "cell_type": "markdown",
      "metadata": {
        "id": "s0Tp6nDRzp5R"
      },
      "source": [
        "Let's build the network"
      ]
    },
    {
      "cell_type": "markdown",
      "metadata": {
        "id": "WxbJXg2Czp5T"
      },
      "source": [
        "# The network architecture"
      ]
    },
    {
      "cell_type": "markdown",
      "metadata": {
        "id": "kGCxNrDdzp5U"
      },
      "source": [
        "- The core building block of neural networks is the **layer**, a data-processing module that you can think of as a filter for data.\n",
        "    - Some data goes in, and it comes out in a more useful form.\n",
        "    - Layers extract **representations** (hopefully, meaningful for the data problem at hand) out of the data fed into them.\n",
        "    \n",
        "- Most of deep learning consists of chaining together simple layers that will implement a form of progressive **data distillation**.\n",
        "- A deep learning model is like a sieve for data-processing, made of a succession of increasingly refined data filters--**the layers**."
      ]
    },
    {
      "cell_type": "code",
      "metadata": {
        "id": "uyUqGjPTzp5V"
      },
      "source": [
        "from keras import models\n",
        "from keras import layers"
      ],
      "execution_count": 9,
      "outputs": []
    },
    {
      "cell_type": "code",
      "metadata": {
        "id": "NEVk0S9_zp5a",
        "colab": {
          "base_uri": "https://localhost:8080/"
        },
        "outputId": "32d3469a-c0e3-4ba9-b3b3-c1ae5530ac3a"
      },
      "source": [
        "network = models.Sequential()\n",
        "# Dense(32) is a fully-connected layer with 32 hidden units.\n",
        "# in the first layer, you must specify the expected input data shape :\n",
        "# here, 28 X 28=784 -dimensional vectors.\n",
        "network.add(layers.Dense(32, activation='sigmoid', input_shape=(28 * 28, )))\n",
        "network.add(layers.Dense(8, activation='sigmoid'))\n",
        "network.add(layers.Dense(10, activation='softmax'))\n",
        "network.summary()"
      ],
      "execution_count": 10,
      "outputs": [
        {
          "output_type": "stream",
          "name": "stdout",
          "text": [
            "Model: \"sequential\"\n",
            "_________________________________________________________________\n",
            " Layer (type)                Output Shape              Param #   \n",
            "=================================================================\n",
            " dense (Dense)               (None, 32)                25120     \n",
            "                                                                 \n",
            " dense_1 (Dense)             (None, 8)                 264       \n",
            "                                                                 \n",
            " dense_2 (Dense)             (None, 10)                90        \n",
            "                                                                 \n",
            "=================================================================\n",
            "Total params: 25,474\n",
            "Trainable params: 25,474\n",
            "Non-trainable params: 0\n",
            "_________________________________________________________________\n"
          ]
        }
      ]
    },
    {
      "cell_type": "code",
      "source": [
        "from google.colab import drive\n",
        "drive.mount('/content/drive')"
      ],
      "metadata": {
        "colab": {
          "base_uri": "https://localhost:8080/"
        },
        "id": "KJSFxZe_e0vC",
        "outputId": "fe8a3ca6-e429-42a7-eeae-fa4938777c29"
      },
      "execution_count": 11,
      "outputs": [
        {
          "output_type": "stream",
          "name": "stdout",
          "text": [
            "Mounted at /content/drive\n"
          ]
        }
      ]
    },
    {
      "cell_type": "markdown",
      "metadata": {
        "id": "Af2c2tvKzp5f"
      },
      "source": [
        "- Our network consists of a sequence of two *Dense* layers, which are densely connected (also called *fully connected*) neural layers.\n",
        "- The second (and last) layer is a **10-way** *softmax* layer, which means it will return an array of **10** probability scores. Each score will be the probability that the current digit image belongs to one of our 10 digit classes. "
      ]
    },
    {
      "cell_type": "markdown",
      "metadata": {
        "id": "NHbqJ-rWzp5g"
      },
      "source": [
        "# The compilation step"
      ]
    },
    {
      "cell_type": "markdown",
      "metadata": {
        "id": "1w0ne5wYzp5h"
      },
      "source": [
        "- To make the network ready for training, we need to pick three more things, as part of the **compilation** step:\n",
        " - **A loss function**-- How the network will be able to measure its performance on the training data, and thus how it will be able to steer itself in the right direction.\n",
        " - **An optimizer**--The mechanism through which the network will update itself based on the data it sees and its loss function.\n",
        " - **Metrics to monitor during training and testing**--Here, we will only care about accuracy (the fraction of the images that were correctly classified)."
      ]
    },
    {
      "cell_type": "code",
      "metadata": {
        "id": "uvSO-q9Ozp5i"
      },
      "source": [
        "network.compile(optimizer='sgd',\n",
        "                loss='categorical_crossentropy',\n",
        "                metrics=['accuracy'])\n",
        "    "
      ],
      "execution_count": 12,
      "outputs": []
    },
    {
      "cell_type": "markdown",
      "metadata": {
        "id": "fLHJqTLXzp5o"
      },
      "source": [
        "# Preparing the image data"
      ]
    },
    {
      "cell_type": "markdown",
      "metadata": {
        "id": "ajWKVl1-zp5q"
      },
      "source": [
        "Before training, we will preprocess the data by reshaping it into the shape the network expects and scaling it so that all values are in the $[0-1]$ interval."
      ]
    },
    {
      "cell_type": "code",
      "metadata": {
        "id": "4vMdz75Wzp5s"
      },
      "source": [
        "train_images = train_images.reshape((60000, 28 * 28))\n",
        "train_images = train_images.astype('float32') / 255."
      ],
      "execution_count": 13,
      "outputs": []
    },
    {
      "cell_type": "code",
      "metadata": {
        "id": "4icW7vDgzp5w"
      },
      "source": [
        "test_images = test_images.reshape((10000, 28 * 28))\n",
        "test_images = test_images.astype('float32') / 255."
      ],
      "execution_count": 14,
      "outputs": []
    },
    {
      "cell_type": "markdown",
      "metadata": {
        "id": "0SHD8Vvhzp5z"
      },
      "source": [
        "# Preparing the labels"
      ]
    },
    {
      "cell_type": "markdown",
      "metadata": {
        "id": "JA1YmuF1zp51"
      },
      "source": [
        "We also need to categorically encode the labels."
      ]
    },
    {
      "cell_type": "code",
      "metadata": {
        "id": "Bh42ABtgzp58"
      },
      "source": [
        "from keras.utils import to_categorical"
      ],
      "execution_count": 15,
      "outputs": []
    },
    {
      "cell_type": "code",
      "metadata": {
        "id": "3eCqlapJzp6A",
        "colab": {
          "base_uri": "https://localhost:8080/"
        },
        "outputId": "8fa7e644-076f-405b-dfd6-b7992cefa94f"
      },
      "source": [
        "train_labels = to_categorical(train_labels)\n",
        "train_labels"
      ],
      "execution_count": 16,
      "outputs": [
        {
          "output_type": "execute_result",
          "data": {
            "text/plain": [
              "array([[0., 0., 0., ..., 0., 0., 0.],\n",
              "       [1., 0., 0., ..., 0., 0., 0.],\n",
              "       [0., 0., 0., ..., 0., 0., 0.],\n",
              "       ...,\n",
              "       [0., 0., 0., ..., 0., 0., 0.],\n",
              "       [0., 0., 0., ..., 0., 0., 0.],\n",
              "       [0., 0., 0., ..., 0., 1., 0.]], dtype=float32)"
            ]
          },
          "metadata": {},
          "execution_count": 16
        }
      ]
    },
    {
      "cell_type": "code",
      "metadata": {
        "id": "wWXDQKNBzp6E",
        "colab": {
          "base_uri": "https://localhost:8080/"
        },
        "outputId": "2ee5e0c6-d504-4eb4-f176-3f09b0b61624"
      },
      "source": [
        "test_labels = to_categorical(test_labels)\n",
        "test_labels"
      ],
      "execution_count": 17,
      "outputs": [
        {
          "output_type": "execute_result",
          "data": {
            "text/plain": [
              "array([[0., 0., 0., ..., 1., 0., 0.],\n",
              "       [0., 0., 1., ..., 0., 0., 0.],\n",
              "       [0., 1., 0., ..., 0., 0., 0.],\n",
              "       ...,\n",
              "       [0., 0., 0., ..., 0., 0., 0.],\n",
              "       [0., 0., 0., ..., 0., 0., 0.],\n",
              "       [0., 0., 0., ..., 0., 0., 0.]], dtype=float32)"
            ]
          },
          "metadata": {},
          "execution_count": 17
        }
      ]
    },
    {
      "cell_type": "markdown",
      "metadata": {
        "id": "csJ7yQVxzp6I"
      },
      "source": [
        "# Training and Testing"
      ]
    },
    {
      "cell_type": "markdown",
      "metadata": {
        "id": "P-KLV-VIzp6K"
      },
      "source": [
        "We are now ready to train the network, which in Keras is done via a call to the network's fit method--we fit the model to its training data:"
      ]
    },
    {
      "cell_type": "code",
      "metadata": {
        "id": "sGWa7zXYzp6O",
        "colab": {
          "base_uri": "https://localhost:8080/"
        },
        "outputId": "c968b46f-4239-4cba-eb7b-ff822e99fffc"
      },
      "source": [
        "network.fit(train_images, train_labels, epochs=250, batch_size=512)"
      ],
      "execution_count": 21,
      "outputs": [
        {
          "output_type": "stream",
          "name": "stdout",
          "text": [
            "Epoch 1/500\n",
            "118/118 [==============================] - 0s 4ms/step - loss: 1.9855 - accuracy: 0.4737\n",
            "Epoch 2/500\n",
            "118/118 [==============================] - 0s 4ms/step - loss: 1.9661 - accuracy: 0.4760\n",
            "Epoch 3/500\n",
            "118/118 [==============================] - 0s 4ms/step - loss: 1.9463 - accuracy: 0.4777\n",
            "Epoch 4/500\n",
            "118/118 [==============================] - 0s 4ms/step - loss: 1.9261 - accuracy: 0.4798\n",
            "Epoch 5/500\n",
            "118/118 [==============================] - 0s 4ms/step - loss: 1.9055 - accuracy: 0.4833\n",
            "Epoch 6/500\n",
            "118/118 [==============================] - 0s 4ms/step - loss: 1.8845 - accuracy: 0.4844\n",
            "Epoch 7/500\n",
            "118/118 [==============================] - 0s 4ms/step - loss: 1.8634 - accuracy: 0.4861\n",
            "Epoch 8/500\n",
            "118/118 [==============================] - 0s 4ms/step - loss: 1.8421 - accuracy: 0.4888\n",
            "Epoch 9/500\n",
            "118/118 [==============================] - 0s 4ms/step - loss: 1.8206 - accuracy: 0.4913\n",
            "Epoch 10/500\n",
            "118/118 [==============================] - 0s 4ms/step - loss: 1.7991 - accuracy: 0.4936\n",
            "Epoch 11/500\n",
            "118/118 [==============================] - 1s 5ms/step - loss: 1.7775 - accuracy: 0.4954\n",
            "Epoch 12/500\n",
            "118/118 [==============================] - 1s 5ms/step - loss: 1.7561 - accuracy: 0.4986\n",
            "Epoch 13/500\n",
            "118/118 [==============================] - 1s 5ms/step - loss: 1.7347 - accuracy: 0.5014\n",
            "Epoch 14/500\n",
            "118/118 [==============================] - 1s 5ms/step - loss: 1.7134 - accuracy: 0.5031\n",
            "Epoch 15/500\n",
            "118/118 [==============================] - 1s 5ms/step - loss: 1.6924 - accuracy: 0.5067\n",
            "Epoch 16/500\n",
            "118/118 [==============================] - 1s 5ms/step - loss: 1.6716 - accuracy: 0.5096\n",
            "Epoch 17/500\n",
            "118/118 [==============================] - 0s 4ms/step - loss: 1.6510 - accuracy: 0.5127\n",
            "Epoch 18/500\n",
            "118/118 [==============================] - 0s 4ms/step - loss: 1.6307 - accuracy: 0.5157\n",
            "Epoch 19/500\n",
            "118/118 [==============================] - 0s 4ms/step - loss: 1.6107 - accuracy: 0.5198\n",
            "Epoch 20/500\n",
            "118/118 [==============================] - 0s 4ms/step - loss: 1.5911 - accuracy: 0.5225\n",
            "Epoch 21/500\n",
            "118/118 [==============================] - 0s 4ms/step - loss: 1.5718 - accuracy: 0.5260\n",
            "Epoch 22/500\n",
            "118/118 [==============================] - 0s 4ms/step - loss: 1.5530 - accuracy: 0.5290\n",
            "Epoch 23/500\n",
            "118/118 [==============================] - 0s 4ms/step - loss: 1.5345 - accuracy: 0.5320\n",
            "Epoch 24/500\n",
            "118/118 [==============================] - 0s 4ms/step - loss: 1.5165 - accuracy: 0.5360\n",
            "Epoch 25/500\n",
            "118/118 [==============================] - 0s 4ms/step - loss: 1.4988 - accuracy: 0.5388\n",
            "Epoch 26/500\n",
            "118/118 [==============================] - 0s 4ms/step - loss: 1.4816 - accuracy: 0.5431\n",
            "Epoch 27/500\n",
            "118/118 [==============================] - 0s 4ms/step - loss: 1.4649 - accuracy: 0.5469\n",
            "Epoch 28/500\n",
            "118/118 [==============================] - 0s 4ms/step - loss: 1.4485 - accuracy: 0.5495\n",
            "Epoch 29/500\n",
            "118/118 [==============================] - 0s 4ms/step - loss: 1.4326 - accuracy: 0.5539\n",
            "Epoch 30/500\n",
            "118/118 [==============================] - 0s 4ms/step - loss: 1.4171 - accuracy: 0.5579\n",
            "Epoch 31/500\n",
            "118/118 [==============================] - 0s 4ms/step - loss: 1.4021 - accuracy: 0.5616\n",
            "Epoch 32/500\n",
            "118/118 [==============================] - 0s 4ms/step - loss: 1.3874 - accuracy: 0.5644\n",
            "Epoch 33/500\n",
            "118/118 [==============================] - 0s 4ms/step - loss: 1.3732 - accuracy: 0.5686\n",
            "Epoch 34/500\n",
            "118/118 [==============================] - 0s 4ms/step - loss: 1.3593 - accuracy: 0.5718\n",
            "Epoch 35/500\n",
            "118/118 [==============================] - 0s 4ms/step - loss: 1.3459 - accuracy: 0.5757\n",
            "Epoch 36/500\n",
            "118/118 [==============================] - 0s 4ms/step - loss: 1.3328 - accuracy: 0.5792\n",
            "Epoch 37/500\n",
            "118/118 [==============================] - 0s 4ms/step - loss: 1.3201 - accuracy: 0.5832\n",
            "Epoch 38/500\n",
            "118/118 [==============================] - 0s 4ms/step - loss: 1.3077 - accuracy: 0.5864\n",
            "Epoch 39/500\n",
            "118/118 [==============================] - 1s 5ms/step - loss: 1.2957 - accuracy: 0.5895\n",
            "Epoch 40/500\n",
            "118/118 [==============================] - 1s 5ms/step - loss: 1.2840 - accuracy: 0.5934\n",
            "Epoch 41/500\n",
            "118/118 [==============================] - 1s 5ms/step - loss: 1.2726 - accuracy: 0.5971\n",
            "Epoch 42/500\n",
            "118/118 [==============================] - 1s 5ms/step - loss: 1.2616 - accuracy: 0.6000\n",
            "Epoch 43/500\n",
            "118/118 [==============================] - 1s 5ms/step - loss: 1.2508 - accuracy: 0.6034\n",
            "Epoch 44/500\n",
            "118/118 [==============================] - 1s 5ms/step - loss: 1.2403 - accuracy: 0.6076\n",
            "Epoch 45/500\n",
            "118/118 [==============================] - 1s 5ms/step - loss: 1.2301 - accuracy: 0.6112\n",
            "Epoch 46/500\n",
            "118/118 [==============================] - 0s 4ms/step - loss: 1.2201 - accuracy: 0.6155\n",
            "Epoch 47/500\n",
            "118/118 [==============================] - 0s 4ms/step - loss: 1.2103 - accuracy: 0.6185\n",
            "Epoch 48/500\n",
            "118/118 [==============================] - 0s 4ms/step - loss: 1.2009 - accuracy: 0.6222\n",
            "Epoch 49/500\n",
            "118/118 [==============================] - 0s 4ms/step - loss: 1.1916 - accuracy: 0.6258\n",
            "Epoch 50/500\n",
            "118/118 [==============================] - 0s 4ms/step - loss: 1.1825 - accuracy: 0.6290\n",
            "Epoch 51/500\n",
            "118/118 [==============================] - 0s 4ms/step - loss: 1.1737 - accuracy: 0.6331\n",
            "Epoch 52/500\n",
            "118/118 [==============================] - 0s 4ms/step - loss: 1.1650 - accuracy: 0.6360\n",
            "Epoch 53/500\n",
            "118/118 [==============================] - 0s 4ms/step - loss: 1.1565 - accuracy: 0.6398\n",
            "Epoch 54/500\n",
            "118/118 [==============================] - 0s 4ms/step - loss: 1.1482 - accuracy: 0.6440\n",
            "Epoch 55/500\n",
            "118/118 [==============================] - 0s 4ms/step - loss: 1.1401 - accuracy: 0.6475\n",
            "Epoch 56/500\n",
            "118/118 [==============================] - 0s 4ms/step - loss: 1.1322 - accuracy: 0.6511\n",
            "Epoch 57/500\n",
            "118/118 [==============================] - 0s 4ms/step - loss: 1.1243 - accuracy: 0.6552\n",
            "Epoch 58/500\n",
            "118/118 [==============================] - 0s 4ms/step - loss: 1.1167 - accuracy: 0.6585\n",
            "Epoch 59/500\n",
            "118/118 [==============================] - 0s 4ms/step - loss: 1.1091 - accuracy: 0.6625\n",
            "Epoch 60/500\n",
            "118/118 [==============================] - 0s 4ms/step - loss: 1.1017 - accuracy: 0.6666\n",
            "Epoch 61/500\n",
            "118/118 [==============================] - 0s 4ms/step - loss: 1.0944 - accuracy: 0.6693\n",
            "Epoch 62/500\n",
            "118/118 [==============================] - 0s 4ms/step - loss: 1.0873 - accuracy: 0.6740\n",
            "Epoch 63/500\n",
            "118/118 [==============================] - 0s 4ms/step - loss: 1.0803 - accuracy: 0.6772\n",
            "Epoch 64/500\n",
            "118/118 [==============================] - 0s 4ms/step - loss: 1.0733 - accuracy: 0.6805\n",
            "Epoch 65/500\n",
            "118/118 [==============================] - 0s 4ms/step - loss: 1.0665 - accuracy: 0.6834\n",
            "Epoch 66/500\n",
            "118/118 [==============================] - 0s 4ms/step - loss: 1.0597 - accuracy: 0.6869\n",
            "Epoch 67/500\n",
            "118/118 [==============================] - 1s 4ms/step - loss: 1.0531 - accuracy: 0.6892\n",
            "Epoch 68/500\n",
            "118/118 [==============================] - 1s 5ms/step - loss: 1.0465 - accuracy: 0.6920\n",
            "Epoch 69/500\n",
            "118/118 [==============================] - 1s 5ms/step - loss: 1.0401 - accuracy: 0.6952\n",
            "Epoch 70/500\n",
            "118/118 [==============================] - 1s 5ms/step - loss: 1.0337 - accuracy: 0.6980\n",
            "Epoch 71/500\n",
            "118/118 [==============================] - 1s 5ms/step - loss: 1.0274 - accuracy: 0.7007\n",
            "Epoch 72/500\n",
            "118/118 [==============================] - 1s 5ms/step - loss: 1.0212 - accuracy: 0.7033\n",
            "Epoch 73/500\n",
            "118/118 [==============================] - 1s 5ms/step - loss: 1.0150 - accuracy: 0.7064\n",
            "Epoch 74/500\n",
            "118/118 [==============================] - 0s 4ms/step - loss: 1.0089 - accuracy: 0.7092\n",
            "Epoch 75/500\n",
            "118/118 [==============================] - 0s 4ms/step - loss: 1.0029 - accuracy: 0.7115\n",
            "Epoch 76/500\n",
            "118/118 [==============================] - 0s 4ms/step - loss: 0.9969 - accuracy: 0.7137\n",
            "Epoch 77/500\n",
            "118/118 [==============================] - 0s 4ms/step - loss: 0.9910 - accuracy: 0.7161\n",
            "Epoch 78/500\n",
            "118/118 [==============================] - 0s 4ms/step - loss: 0.9851 - accuracy: 0.7187\n",
            "Epoch 79/500\n",
            "118/118 [==============================] - 0s 4ms/step - loss: 0.9793 - accuracy: 0.7210\n",
            "Epoch 80/500\n",
            "118/118 [==============================] - 0s 4ms/step - loss: 0.9736 - accuracy: 0.7236\n",
            "Epoch 81/500\n",
            "118/118 [==============================] - 0s 4ms/step - loss: 0.9679 - accuracy: 0.7255\n",
            "Epoch 82/500\n",
            "118/118 [==============================] - 0s 4ms/step - loss: 0.9623 - accuracy: 0.7279\n",
            "Epoch 83/500\n",
            "118/118 [==============================] - 0s 4ms/step - loss: 0.9567 - accuracy: 0.7303\n",
            "Epoch 84/500\n",
            "118/118 [==============================] - 0s 4ms/step - loss: 0.9512 - accuracy: 0.7328\n",
            "Epoch 85/500\n",
            "118/118 [==============================] - 0s 4ms/step - loss: 0.9456 - accuracy: 0.7347\n",
            "Epoch 86/500\n",
            "118/118 [==============================] - 0s 4ms/step - loss: 0.9402 - accuracy: 0.7376\n",
            "Epoch 87/500\n",
            "118/118 [==============================] - 0s 4ms/step - loss: 0.9348 - accuracy: 0.7402\n",
            "Epoch 88/500\n",
            "118/118 [==============================] - 0s 4ms/step - loss: 0.9294 - accuracy: 0.7420\n",
            "Epoch 89/500\n",
            "118/118 [==============================] - 0s 4ms/step - loss: 0.9240 - accuracy: 0.7442\n",
            "Epoch 90/500\n",
            "118/118 [==============================] - 1s 5ms/step - loss: 0.9187 - accuracy: 0.7467\n",
            "Epoch 91/500\n",
            "118/118 [==============================] - 1s 5ms/step - loss: 0.9134 - accuracy: 0.7483\n",
            "Epoch 92/500\n",
            "118/118 [==============================] - 1s 5ms/step - loss: 0.9082 - accuracy: 0.7508\n",
            "Epoch 93/500\n",
            "118/118 [==============================] - 1s 5ms/step - loss: 0.9030 - accuracy: 0.7538\n",
            "Epoch 94/500\n",
            "118/118 [==============================] - 1s 5ms/step - loss: 0.8978 - accuracy: 0.7556\n",
            "Epoch 95/500\n",
            "118/118 [==============================] - 1s 6ms/step - loss: 0.8926 - accuracy: 0.7579\n",
            "Epoch 96/500\n",
            "118/118 [==============================] - 1s 7ms/step - loss: 0.8875 - accuracy: 0.7597\n",
            "Epoch 97/500\n",
            "118/118 [==============================] - 1s 6ms/step - loss: 0.8823 - accuracy: 0.7624\n",
            "Epoch 98/500\n",
            "118/118 [==============================] - 1s 6ms/step - loss: 0.8772 - accuracy: 0.7648\n",
            "Epoch 99/500\n",
            "118/118 [==============================] - 1s 5ms/step - loss: 0.8722 - accuracy: 0.7669\n",
            "Epoch 100/500\n",
            "118/118 [==============================] - 1s 5ms/step - loss: 0.8671 - accuracy: 0.7698\n",
            "Epoch 101/500\n",
            "118/118 [==============================] - 1s 5ms/step - loss: 0.8620 - accuracy: 0.7722\n",
            "Epoch 102/500\n",
            "118/118 [==============================] - 1s 5ms/step - loss: 0.8570 - accuracy: 0.7743\n",
            "Epoch 103/500\n",
            "118/118 [==============================] - 0s 4ms/step - loss: 0.8520 - accuracy: 0.7767\n",
            "Epoch 104/500\n",
            "118/118 [==============================] - 0s 4ms/step - loss: 0.8470 - accuracy: 0.7794\n",
            "Epoch 105/500\n",
            "118/118 [==============================] - 0s 4ms/step - loss: 0.8420 - accuracy: 0.7816\n",
            "Epoch 106/500\n",
            "118/118 [==============================] - 0s 4ms/step - loss: 0.8370 - accuracy: 0.7837\n",
            "Epoch 107/500\n",
            "118/118 [==============================] - 0s 4ms/step - loss: 0.8320 - accuracy: 0.7859\n",
            "Epoch 108/500\n",
            "118/118 [==============================] - 0s 4ms/step - loss: 0.8270 - accuracy: 0.7877\n",
            "Epoch 109/500\n",
            "118/118 [==============================] - 0s 4ms/step - loss: 0.8221 - accuracy: 0.7899\n",
            "Epoch 110/500\n",
            "118/118 [==============================] - 0s 4ms/step - loss: 0.8171 - accuracy: 0.7920\n",
            "Epoch 111/500\n",
            "118/118 [==============================] - 0s 4ms/step - loss: 0.8122 - accuracy: 0.7944\n",
            "Epoch 112/500\n",
            "118/118 [==============================] - 0s 4ms/step - loss: 0.8072 - accuracy: 0.7965\n",
            "Epoch 113/500\n",
            "118/118 [==============================] - 0s 4ms/step - loss: 0.8023 - accuracy: 0.7984\n",
            "Epoch 114/500\n",
            "118/118 [==============================] - 0s 4ms/step - loss: 0.7973 - accuracy: 0.8002\n",
            "Epoch 115/500\n",
            "118/118 [==============================] - 0s 4ms/step - loss: 0.7924 - accuracy: 0.8020\n",
            "Epoch 116/500\n",
            "118/118 [==============================] - 0s 4ms/step - loss: 0.7875 - accuracy: 0.8034\n",
            "Epoch 117/500\n",
            "118/118 [==============================] - 0s 4ms/step - loss: 0.7826 - accuracy: 0.8050\n",
            "Epoch 118/500\n",
            "118/118 [==============================] - 0s 4ms/step - loss: 0.7777 - accuracy: 0.8071\n",
            "Epoch 119/500\n",
            "118/118 [==============================] - 0s 4ms/step - loss: 0.7728 - accuracy: 0.8088\n",
            "Epoch 120/500\n",
            "118/118 [==============================] - 0s 4ms/step - loss: 0.7680 - accuracy: 0.8106\n",
            "Epoch 121/500\n",
            "118/118 [==============================] - 0s 4ms/step - loss: 0.7631 - accuracy: 0.8126\n",
            "Epoch 122/500\n",
            "118/118 [==============================] - 0s 4ms/step - loss: 0.7583 - accuracy: 0.8140\n",
            "Epoch 123/500\n",
            "118/118 [==============================] - 0s 4ms/step - loss: 0.7534 - accuracy: 0.8157\n",
            "Epoch 124/500\n",
            "118/118 [==============================] - 1s 4ms/step - loss: 0.7486 - accuracy: 0.8170\n",
            "Epoch 125/500\n",
            "118/118 [==============================] - 1s 5ms/step - loss: 0.7438 - accuracy: 0.8187\n",
            "Epoch 126/500\n",
            "118/118 [==============================] - 1s 5ms/step - loss: 0.7390 - accuracy: 0.8200\n",
            "Epoch 127/500\n",
            "118/118 [==============================] - 1s 5ms/step - loss: 0.7343 - accuracy: 0.8215\n",
            "Epoch 128/500\n",
            "118/118 [==============================] - 1s 5ms/step - loss: 0.7296 - accuracy: 0.8229\n",
            "Epoch 129/500\n",
            "118/118 [==============================] - 1s 5ms/step - loss: 0.7248 - accuracy: 0.8242\n",
            "Epoch 130/500\n",
            "118/118 [==============================] - 1s 5ms/step - loss: 0.7202 - accuracy: 0.8256\n",
            "Epoch 131/500\n",
            "118/118 [==============================] - 1s 4ms/step - loss: 0.7155 - accuracy: 0.8269\n",
            "Epoch 132/500\n",
            "118/118 [==============================] - 0s 4ms/step - loss: 0.7109 - accuracy: 0.8280\n",
            "Epoch 133/500\n",
            "118/118 [==============================] - 0s 4ms/step - loss: 0.7063 - accuracy: 0.8292\n",
            "Epoch 134/500\n",
            "118/118 [==============================] - 0s 4ms/step - loss: 0.7017 - accuracy: 0.8305\n",
            "Epoch 135/500\n",
            "118/118 [==============================] - 0s 4ms/step - loss: 0.6972 - accuracy: 0.8316\n",
            "Epoch 136/500\n",
            "118/118 [==============================] - 0s 4ms/step - loss: 0.6927 - accuracy: 0.8326\n",
            "Epoch 137/500\n",
            "118/118 [==============================] - 0s 4ms/step - loss: 0.6882 - accuracy: 0.8335\n",
            "Epoch 138/500\n",
            "118/118 [==============================] - 0s 4ms/step - loss: 0.6838 - accuracy: 0.8347\n",
            "Epoch 139/500\n",
            "118/118 [==============================] - 0s 4ms/step - loss: 0.6794 - accuracy: 0.8359\n",
            "Epoch 140/500\n",
            "118/118 [==============================] - 0s 4ms/step - loss: 0.6750 - accuracy: 0.8371\n",
            "Epoch 141/500\n",
            "118/118 [==============================] - 0s 4ms/step - loss: 0.6707 - accuracy: 0.8381\n",
            "Epoch 142/500\n",
            "118/118 [==============================] - 0s 4ms/step - loss: 0.6664 - accuracy: 0.8392\n",
            "Epoch 143/500\n",
            "118/118 [==============================] - 0s 4ms/step - loss: 0.6622 - accuracy: 0.8404\n",
            "Epoch 144/500\n",
            "118/118 [==============================] - 0s 4ms/step - loss: 0.6580 - accuracy: 0.8414\n",
            "Epoch 145/500\n",
            "118/118 [==============================] - 0s 4ms/step - loss: 0.6538 - accuracy: 0.8424\n",
            "Epoch 146/500\n",
            "118/118 [==============================] - 0s 4ms/step - loss: 0.6497 - accuracy: 0.8437\n",
            "Epoch 147/500\n",
            "118/118 [==============================] - 0s 4ms/step - loss: 0.6457 - accuracy: 0.8449\n",
            "Epoch 148/500\n",
            "118/118 [==============================] - 0s 4ms/step - loss: 0.6417 - accuracy: 0.8457\n",
            "Epoch 149/500\n",
            "118/118 [==============================] - 0s 4ms/step - loss: 0.6377 - accuracy: 0.8470\n",
            "Epoch 150/500\n",
            "118/118 [==============================] - 0s 4ms/step - loss: 0.6337 - accuracy: 0.8478\n",
            "Epoch 151/500\n",
            "118/118 [==============================] - 0s 4ms/step - loss: 0.6298 - accuracy: 0.8488\n",
            "Epoch 152/500\n",
            "118/118 [==============================] - 0s 4ms/step - loss: 0.6260 - accuracy: 0.8496\n",
            "Epoch 153/500\n",
            "118/118 [==============================] - 1s 5ms/step - loss: 0.6222 - accuracy: 0.8506\n",
            "Epoch 154/500\n",
            "118/118 [==============================] - 1s 5ms/step - loss: 0.6184 - accuracy: 0.8511\n",
            "Epoch 155/500\n",
            "118/118 [==============================] - 1s 5ms/step - loss: 0.6147 - accuracy: 0.8522\n",
            "Epoch 156/500\n",
            "118/118 [==============================] - 1s 5ms/step - loss: 0.6111 - accuracy: 0.8530\n",
            "Epoch 157/500\n",
            "118/118 [==============================] - 1s 6ms/step - loss: 0.6074 - accuracy: 0.8535\n",
            "Epoch 158/500\n",
            "118/118 [==============================] - 1s 5ms/step - loss: 0.6039 - accuracy: 0.8543\n",
            "Epoch 159/500\n",
            "118/118 [==============================] - 1s 5ms/step - loss: 0.6003 - accuracy: 0.8553\n",
            "Epoch 160/500\n",
            "118/118 [==============================] - 0s 4ms/step - loss: 0.5969 - accuracy: 0.8561\n",
            "Epoch 161/500\n",
            "118/118 [==============================] - 0s 4ms/step - loss: 0.5934 - accuracy: 0.8567\n",
            "Epoch 162/500\n",
            "118/118 [==============================] - 0s 4ms/step - loss: 0.5900 - accuracy: 0.8572\n",
            "Epoch 163/500\n",
            "118/118 [==============================] - 0s 4ms/step - loss: 0.5867 - accuracy: 0.8581\n",
            "Epoch 164/500\n",
            "118/118 [==============================] - 0s 4ms/step - loss: 0.5833 - accuracy: 0.8586\n",
            "Epoch 165/500\n",
            "118/118 [==============================] - 0s 4ms/step - loss: 0.5801 - accuracy: 0.8592\n",
            "Epoch 166/500\n",
            "118/118 [==============================] - 0s 4ms/step - loss: 0.5769 - accuracy: 0.8598\n",
            "Epoch 167/500\n",
            "118/118 [==============================] - 0s 4ms/step - loss: 0.5737 - accuracy: 0.8607\n",
            "Epoch 168/500\n",
            "118/118 [==============================] - 0s 4ms/step - loss: 0.5705 - accuracy: 0.8615\n",
            "Epoch 169/500\n",
            "118/118 [==============================] - 0s 4ms/step - loss: 0.5674 - accuracy: 0.8621\n",
            "Epoch 170/500\n",
            "118/118 [==============================] - 0s 4ms/step - loss: 0.5644 - accuracy: 0.8624\n",
            "Epoch 171/500\n",
            "118/118 [==============================] - 0s 4ms/step - loss: 0.5613 - accuracy: 0.8633\n",
            "Epoch 172/500\n",
            "118/118 [==============================] - 0s 4ms/step - loss: 0.5584 - accuracy: 0.8638\n",
            "Epoch 173/500\n",
            "118/118 [==============================] - 0s 4ms/step - loss: 0.5554 - accuracy: 0.8641\n",
            "Epoch 174/500\n",
            "118/118 [==============================] - 0s 4ms/step - loss: 0.5525 - accuracy: 0.8651\n",
            "Epoch 175/500\n",
            "118/118 [==============================] - 0s 4ms/step - loss: 0.5497 - accuracy: 0.8655\n",
            "Epoch 176/500\n",
            "118/118 [==============================] - 0s 4ms/step - loss: 0.5468 - accuracy: 0.8658\n",
            "Epoch 177/500\n",
            "118/118 [==============================] - 0s 4ms/step - loss: 0.5441 - accuracy: 0.8663\n",
            "Epoch 178/500\n",
            "118/118 [==============================] - 0s 4ms/step - loss: 0.5413 - accuracy: 0.8670\n",
            "Epoch 179/500\n",
            "118/118 [==============================] - 0s 4ms/step - loss: 0.5386 - accuracy: 0.8677\n",
            "Epoch 180/500\n",
            "118/118 [==============================] - 0s 4ms/step - loss: 0.5359 - accuracy: 0.8681\n",
            "Epoch 181/500\n",
            "118/118 [==============================] - 1s 4ms/step - loss: 0.5333 - accuracy: 0.8689\n",
            "Epoch 182/500\n",
            "118/118 [==============================] - 1s 5ms/step - loss: 0.5307 - accuracy: 0.8696\n",
            "Epoch 183/500\n",
            "118/118 [==============================] - 1s 5ms/step - loss: 0.5281 - accuracy: 0.8700\n",
            "Epoch 184/500\n",
            "118/118 [==============================] - 1s 5ms/step - loss: 0.5256 - accuracy: 0.8707\n",
            "Epoch 185/500\n",
            "118/118 [==============================] - 1s 5ms/step - loss: 0.5231 - accuracy: 0.8709\n",
            "Epoch 186/500\n",
            "118/118 [==============================] - 1s 5ms/step - loss: 0.5206 - accuracy: 0.8714\n",
            "Epoch 187/500\n",
            "118/118 [==============================] - 1s 5ms/step - loss: 0.5182 - accuracy: 0.8718\n",
            "Epoch 188/500\n",
            "118/118 [==============================] - 1s 4ms/step - loss: 0.5158 - accuracy: 0.8722\n",
            "Epoch 189/500\n",
            "118/118 [==============================] - 0s 4ms/step - loss: 0.5134 - accuracy: 0.8729\n",
            "Epoch 190/500\n",
            "118/118 [==============================] - 0s 4ms/step - loss: 0.5111 - accuracy: 0.8733\n",
            "Epoch 191/500\n",
            "118/118 [==============================] - 0s 4ms/step - loss: 0.5088 - accuracy: 0.8740\n",
            "Epoch 192/500\n",
            "118/118 [==============================] - 1s 7ms/step - loss: 0.5065 - accuracy: 0.8744\n",
            "Epoch 193/500\n",
            "118/118 [==============================] - 0s 4ms/step - loss: 0.5043 - accuracy: 0.8749\n",
            "Epoch 194/500\n",
            "118/118 [==============================] - 1s 6ms/step - loss: 0.5020 - accuracy: 0.8751\n",
            "Epoch 195/500\n",
            "118/118 [==============================] - 0s 4ms/step - loss: 0.4998 - accuracy: 0.8755\n",
            "Epoch 196/500\n",
            "118/118 [==============================] - 0s 4ms/step - loss: 0.4977 - accuracy: 0.8760\n",
            "Epoch 197/500\n",
            "118/118 [==============================] - 0s 4ms/step - loss: 0.4956 - accuracy: 0.8762\n",
            "Epoch 198/500\n",
            "118/118 [==============================] - 0s 4ms/step - loss: 0.4934 - accuracy: 0.8769\n",
            "Epoch 199/500\n",
            "118/118 [==============================] - 0s 4ms/step - loss: 0.4914 - accuracy: 0.8770\n",
            "Epoch 200/500\n",
            "118/118 [==============================] - 0s 4ms/step - loss: 0.4893 - accuracy: 0.8776\n",
            "Epoch 201/500\n",
            "118/118 [==============================] - 0s 4ms/step - loss: 0.4873 - accuracy: 0.8779\n",
            "Epoch 202/500\n",
            "118/118 [==============================] - 0s 4ms/step - loss: 0.4853 - accuracy: 0.8783\n",
            "Epoch 203/500\n",
            "118/118 [==============================] - 0s 4ms/step - loss: 0.4833 - accuracy: 0.8786\n",
            "Epoch 204/500\n",
            "118/118 [==============================] - 0s 4ms/step - loss: 0.4814 - accuracy: 0.8789\n",
            "Epoch 205/500\n",
            "118/118 [==============================] - 0s 4ms/step - loss: 0.4794 - accuracy: 0.8793\n",
            "Epoch 206/500\n",
            "118/118 [==============================] - 0s 4ms/step - loss: 0.4775 - accuracy: 0.8796\n",
            "Epoch 207/500\n",
            "118/118 [==============================] - 0s 4ms/step - loss: 0.4757 - accuracy: 0.8800\n",
            "Epoch 208/500\n",
            "118/118 [==============================] - 1s 4ms/step - loss: 0.4738 - accuracy: 0.8805\n",
            "Epoch 209/500\n",
            "118/118 [==============================] - 1s 5ms/step - loss: 0.4720 - accuracy: 0.8809\n",
            "Epoch 210/500\n",
            "118/118 [==============================] - 1s 5ms/step - loss: 0.4702 - accuracy: 0.8813\n",
            "Epoch 211/500\n",
            "118/118 [==============================] - 1s 5ms/step - loss: 0.4684 - accuracy: 0.8819\n",
            "Epoch 212/500\n",
            "118/118 [==============================] - 1s 5ms/step - loss: 0.4666 - accuracy: 0.8819\n",
            "Epoch 213/500\n",
            "118/118 [==============================] - 1s 5ms/step - loss: 0.4649 - accuracy: 0.8825\n",
            "Epoch 214/500\n",
            "118/118 [==============================] - 1s 6ms/step - loss: 0.4631 - accuracy: 0.8830\n",
            "Epoch 215/500\n",
            "118/118 [==============================] - 1s 7ms/step - loss: 0.4614 - accuracy: 0.8836\n",
            "Epoch 216/500\n",
            "118/118 [==============================] - 1s 6ms/step - loss: 0.4597 - accuracy: 0.8838\n",
            "Epoch 217/500\n",
            "118/118 [==============================] - 1s 5ms/step - loss: 0.4581 - accuracy: 0.8841\n",
            "Epoch 218/500\n",
            "118/118 [==============================] - 1s 5ms/step - loss: 0.4564 - accuracy: 0.8844\n",
            "Epoch 219/500\n",
            "118/118 [==============================] - 1s 5ms/step - loss: 0.4548 - accuracy: 0.8846\n",
            "Epoch 220/500\n",
            "118/118 [==============================] - 1s 5ms/step - loss: 0.4532 - accuracy: 0.8852\n",
            "Epoch 221/500\n",
            "118/118 [==============================] - 1s 5ms/step - loss: 0.4516 - accuracy: 0.8855\n",
            "Epoch 222/500\n",
            "118/118 [==============================] - 0s 4ms/step - loss: 0.4500 - accuracy: 0.8860\n",
            "Epoch 223/500\n",
            "118/118 [==============================] - 0s 4ms/step - loss: 0.4485 - accuracy: 0.8863\n",
            "Epoch 224/500\n",
            "118/118 [==============================] - 1s 4ms/step - loss: 0.4469 - accuracy: 0.8867\n",
            "Epoch 225/500\n",
            "118/118 [==============================] - 0s 4ms/step - loss: 0.4454 - accuracy: 0.8868\n",
            "Epoch 226/500\n",
            "118/118 [==============================] - 0s 4ms/step - loss: 0.4439 - accuracy: 0.8871\n",
            "Epoch 227/500\n",
            "118/118 [==============================] - 0s 4ms/step - loss: 0.4424 - accuracy: 0.8876\n",
            "Epoch 228/500\n",
            "118/118 [==============================] - 0s 4ms/step - loss: 0.4410 - accuracy: 0.8878\n",
            "Epoch 229/500\n",
            "118/118 [==============================] - 0s 4ms/step - loss: 0.4395 - accuracy: 0.8882\n",
            "Epoch 230/500\n",
            "118/118 [==============================] - 0s 4ms/step - loss: 0.4381 - accuracy: 0.8885\n",
            "Epoch 231/500\n",
            "118/118 [==============================] - 0s 4ms/step - loss: 0.4367 - accuracy: 0.8888\n",
            "Epoch 232/500\n",
            "118/118 [==============================] - 0s 4ms/step - loss: 0.4353 - accuracy: 0.8891\n",
            "Epoch 233/500\n",
            "118/118 [==============================] - 0s 4ms/step - loss: 0.4339 - accuracy: 0.8892\n",
            "Epoch 234/500\n",
            "118/118 [==============================] - 0s 4ms/step - loss: 0.4325 - accuracy: 0.8895\n",
            "Epoch 235/500\n",
            "118/118 [==============================] - 1s 5ms/step - loss: 0.4311 - accuracy: 0.8897\n",
            "Epoch 236/500\n",
            "118/118 [==============================] - 1s 5ms/step - loss: 0.4298 - accuracy: 0.8899\n",
            "Epoch 237/500\n",
            "118/118 [==============================] - 1s 5ms/step - loss: 0.4285 - accuracy: 0.8903\n",
            "Epoch 238/500\n",
            "118/118 [==============================] - 1s 5ms/step - loss: 0.4271 - accuracy: 0.8905\n",
            "Epoch 239/500\n",
            "118/118 [==============================] - 1s 5ms/step - loss: 0.4258 - accuracy: 0.8909\n",
            "Epoch 240/500\n",
            "118/118 [==============================] - 1s 5ms/step - loss: 0.4245 - accuracy: 0.8912\n",
            "Epoch 241/500\n",
            "118/118 [==============================] - 1s 5ms/step - loss: 0.4233 - accuracy: 0.8915\n",
            "Epoch 242/500\n",
            "118/118 [==============================] - 1s 5ms/step - loss: 0.4220 - accuracy: 0.8917\n",
            "Epoch 243/500\n",
            "118/118 [==============================] - 0s 4ms/step - loss: 0.4207 - accuracy: 0.8919\n",
            "Epoch 244/500\n",
            "118/118 [==============================] - 0s 4ms/step - loss: 0.4195 - accuracy: 0.8922\n",
            "Epoch 245/500\n",
            "118/118 [==============================] - 0s 4ms/step - loss: 0.4183 - accuracy: 0.8924\n",
            "Epoch 246/500\n",
            "118/118 [==============================] - 0s 4ms/step - loss: 0.4171 - accuracy: 0.8925\n",
            "Epoch 247/500\n",
            "118/118 [==============================] - 0s 4ms/step - loss: 0.4158 - accuracy: 0.8929\n",
            "Epoch 248/500\n",
            "118/118 [==============================] - 0s 4ms/step - loss: 0.4147 - accuracy: 0.8932\n",
            "Epoch 249/500\n",
            "118/118 [==============================] - 0s 4ms/step - loss: 0.4135 - accuracy: 0.8934\n",
            "Epoch 250/500\n",
            "118/118 [==============================] - 0s 4ms/step - loss: 0.4123 - accuracy: 0.8937\n",
            "Epoch 251/500\n",
            "118/118 [==============================] - 0s 4ms/step - loss: 0.4112 - accuracy: 0.8939\n",
            "Epoch 252/500\n",
            "118/118 [==============================] - 0s 4ms/step - loss: 0.4100 - accuracy: 0.8943\n",
            "Epoch 253/500\n",
            "118/118 [==============================] - 0s 4ms/step - loss: 0.4089 - accuracy: 0.8944\n",
            "Epoch 254/500\n",
            "118/118 [==============================] - 0s 4ms/step - loss: 0.4077 - accuracy: 0.8948\n",
            "Epoch 255/500\n",
            "118/118 [==============================] - 0s 4ms/step - loss: 0.4066 - accuracy: 0.8948\n",
            "Epoch 256/500\n",
            "118/118 [==============================] - 0s 4ms/step - loss: 0.4055 - accuracy: 0.8952\n",
            "Epoch 257/500\n",
            "118/118 [==============================] - 0s 4ms/step - loss: 0.4044 - accuracy: 0.8952\n",
            "Epoch 258/500\n",
            "118/118 [==============================] - 0s 4ms/step - loss: 0.4033 - accuracy: 0.8954\n",
            "Epoch 259/500\n",
            "118/118 [==============================] - 0s 4ms/step - loss: 0.4023 - accuracy: 0.8958\n",
            "Epoch 260/500\n",
            "118/118 [==============================] - 0s 4ms/step - loss: 0.4012 - accuracy: 0.8960\n",
            "Epoch 261/500\n",
            "118/118 [==============================] - 0s 4ms/step - loss: 0.4002 - accuracy: 0.8962\n",
            "Epoch 262/500\n",
            "118/118 [==============================] - 0s 4ms/step - loss: 0.3991 - accuracy: 0.8964\n",
            "Epoch 263/500\n",
            "118/118 [==============================] - 0s 4ms/step - loss: 0.3981 - accuracy: 0.8967\n",
            "Epoch 264/500\n",
            "118/118 [==============================] - 1s 5ms/step - loss: 0.3970 - accuracy: 0.8969\n",
            "Epoch 265/500\n",
            "118/118 [==============================] - 1s 5ms/step - loss: 0.3960 - accuracy: 0.8971\n",
            "Epoch 266/500\n",
            "118/118 [==============================] - 1s 5ms/step - loss: 0.3950 - accuracy: 0.8974\n",
            "Epoch 267/500\n",
            "118/118 [==============================] - 1s 5ms/step - loss: 0.3940 - accuracy: 0.8976\n",
            "Epoch 268/500\n",
            "118/118 [==============================] - 1s 5ms/step - loss: 0.3930 - accuracy: 0.8978\n",
            "Epoch 269/500\n",
            "118/118 [==============================] - 1s 5ms/step - loss: 0.3920 - accuracy: 0.8979\n",
            "Epoch 270/500\n",
            "118/118 [==============================] - 1s 5ms/step - loss: 0.3911 - accuracy: 0.8981\n",
            "Epoch 271/500\n",
            "118/118 [==============================] - 0s 4ms/step - loss: 0.3901 - accuracy: 0.8983\n",
            "Epoch 272/500\n",
            "118/118 [==============================] - 0s 4ms/step - loss: 0.3891 - accuracy: 0.8983\n",
            "Epoch 273/500\n",
            "118/118 [==============================] - 0s 4ms/step - loss: 0.3882 - accuracy: 0.8986\n",
            "Epoch 274/500\n",
            "118/118 [==============================] - 0s 4ms/step - loss: 0.3872 - accuracy: 0.8989\n",
            "Epoch 275/500\n",
            "118/118 [==============================] - 0s 4ms/step - loss: 0.3863 - accuracy: 0.8993\n",
            "Epoch 276/500\n",
            "118/118 [==============================] - 0s 4ms/step - loss: 0.3854 - accuracy: 0.8993\n",
            "Epoch 277/500\n",
            "118/118 [==============================] - 0s 4ms/step - loss: 0.3845 - accuracy: 0.8997\n",
            "Epoch 278/500\n",
            "118/118 [==============================] - 0s 4ms/step - loss: 0.3835 - accuracy: 0.8997\n",
            "Epoch 279/500\n",
            "118/118 [==============================] - 0s 4ms/step - loss: 0.3826 - accuracy: 0.9000\n",
            "Epoch 280/500\n",
            "118/118 [==============================] - 0s 4ms/step - loss: 0.3817 - accuracy: 0.9001\n",
            "Epoch 281/500\n",
            "118/118 [==============================] - 0s 4ms/step - loss: 0.3808 - accuracy: 0.9004\n",
            "Epoch 282/500\n",
            "118/118 [==============================] - 0s 4ms/step - loss: 0.3800 - accuracy: 0.9006\n",
            "Epoch 283/500\n",
            "118/118 [==============================] - 0s 4ms/step - loss: 0.3791 - accuracy: 0.9009\n",
            "Epoch 284/500\n",
            "118/118 [==============================] - 0s 4ms/step - loss: 0.3782 - accuracy: 0.9009\n",
            "Epoch 285/500\n",
            "118/118 [==============================] - 0s 4ms/step - loss: 0.3773 - accuracy: 0.9013\n",
            "Epoch 286/500\n",
            "118/118 [==============================] - 0s 4ms/step - loss: 0.3765 - accuracy: 0.9015\n",
            "Epoch 287/500\n",
            "118/118 [==============================] - 0s 4ms/step - loss: 0.3756 - accuracy: 0.9018\n",
            "Epoch 288/500\n",
            "118/118 [==============================] - 0s 4ms/step - loss: 0.3748 - accuracy: 0.9021\n",
            "Epoch 289/500\n",
            "118/118 [==============================] - 0s 4ms/step - loss: 0.3740 - accuracy: 0.9022\n",
            "Epoch 290/500\n",
            "118/118 [==============================] - 0s 4ms/step - loss: 0.3731 - accuracy: 0.9023\n",
            "Epoch 291/500\n",
            "118/118 [==============================] - 1s 5ms/step - loss: 0.3723 - accuracy: 0.9025\n",
            "Epoch 292/500\n",
            "118/118 [==============================] - 1s 5ms/step - loss: 0.3715 - accuracy: 0.9028\n",
            "Epoch 293/500\n",
            "118/118 [==============================] - 1s 5ms/step - loss: 0.3707 - accuracy: 0.9031\n",
            "Epoch 294/500\n",
            "118/118 [==============================] - 1s 5ms/step - loss: 0.3699 - accuracy: 0.9034\n",
            "Epoch 295/500\n",
            "118/118 [==============================] - 1s 5ms/step - loss: 0.3691 - accuracy: 0.9034\n",
            "Epoch 296/500\n",
            "118/118 [==============================] - 1s 5ms/step - loss: 0.3683 - accuracy: 0.9037\n",
            "Epoch 297/500\n",
            "118/118 [==============================] - 1s 5ms/step - loss: 0.3675 - accuracy: 0.9039\n",
            "Epoch 298/500\n",
            "118/118 [==============================] - 1s 5ms/step - loss: 0.3667 - accuracy: 0.9041\n",
            "Epoch 299/500\n",
            "118/118 [==============================] - 0s 4ms/step - loss: 0.3659 - accuracy: 0.9042\n",
            "Epoch 300/500\n",
            "118/118 [==============================] - 0s 4ms/step - loss: 0.3651 - accuracy: 0.9045\n",
            "Epoch 301/500\n",
            "118/118 [==============================] - 0s 4ms/step - loss: 0.3644 - accuracy: 0.9046\n",
            "Epoch 302/500\n",
            "118/118 [==============================] - 0s 4ms/step - loss: 0.3636 - accuracy: 0.9048\n",
            "Epoch 303/500\n",
            "118/118 [==============================] - 0s 4ms/step - loss: 0.3628 - accuracy: 0.9050\n",
            "Epoch 304/500\n",
            "118/118 [==============================] - 0s 4ms/step - loss: 0.3621 - accuracy: 0.9049\n",
            "Epoch 305/500\n",
            "118/118 [==============================] - 0s 4ms/step - loss: 0.3613 - accuracy: 0.9053\n",
            "Epoch 306/500\n",
            "118/118 [==============================] - 0s 4ms/step - loss: 0.3606 - accuracy: 0.9053\n",
            "Epoch 307/500\n",
            "118/118 [==============================] - 0s 4ms/step - loss: 0.3599 - accuracy: 0.9055\n",
            "Epoch 308/500\n",
            "118/118 [==============================] - 0s 4ms/step - loss: 0.3591 - accuracy: 0.9056\n",
            "Epoch 309/500\n",
            "118/118 [==============================] - 0s 4ms/step - loss: 0.3584 - accuracy: 0.9059\n",
            "Epoch 310/500\n",
            "118/118 [==============================] - 0s 4ms/step - loss: 0.3577 - accuracy: 0.9060\n",
            "Epoch 311/500\n",
            "118/118 [==============================] - 0s 4ms/step - loss: 0.3570 - accuracy: 0.9061\n",
            "Epoch 312/500\n",
            "118/118 [==============================] - 0s 4ms/step - loss: 0.3562 - accuracy: 0.9064\n",
            "Epoch 313/500\n",
            "118/118 [==============================] - 0s 4ms/step - loss: 0.3555 - accuracy: 0.9065\n",
            "Epoch 314/500\n",
            "118/118 [==============================] - 0s 4ms/step - loss: 0.3548 - accuracy: 0.9067\n",
            "Epoch 315/500\n",
            "118/118 [==============================] - 0s 4ms/step - loss: 0.3541 - accuracy: 0.9068\n",
            "Epoch 316/500\n",
            "118/118 [==============================] - 0s 4ms/step - loss: 0.3534 - accuracy: 0.9070\n",
            "Epoch 317/500\n",
            "118/118 [==============================] - 0s 4ms/step - loss: 0.3527 - accuracy: 0.9072\n",
            "Epoch 318/500\n",
            "118/118 [==============================] - 0s 4ms/step - loss: 0.3521 - accuracy: 0.9075\n",
            "Epoch 319/500\n",
            "118/118 [==============================] - 1s 4ms/step - loss: 0.3514 - accuracy: 0.9076\n",
            "Epoch 320/500\n",
            "118/118 [==============================] - 1s 6ms/step - loss: 0.3507 - accuracy: 0.9078\n",
            "Epoch 321/500\n",
            "118/118 [==============================] - 1s 5ms/step - loss: 0.3500 - accuracy: 0.9080\n",
            "Epoch 322/500\n",
            "118/118 [==============================] - 1s 5ms/step - loss: 0.3493 - accuracy: 0.9081\n",
            "Epoch 323/500\n",
            "118/118 [==============================] - 1s 5ms/step - loss: 0.3487 - accuracy: 0.9082\n",
            "Epoch 324/500\n",
            "118/118 [==============================] - 1s 5ms/step - loss: 0.3480 - accuracy: 0.9083\n",
            "Epoch 325/500\n",
            "118/118 [==============================] - 1s 5ms/step - loss: 0.3474 - accuracy: 0.9085\n",
            "Epoch 326/500\n",
            "118/118 [==============================] - 1s 5ms/step - loss: 0.3467 - accuracy: 0.9086\n",
            "Epoch 327/500\n",
            "118/118 [==============================] - 0s 4ms/step - loss: 0.3460 - accuracy: 0.9088\n",
            "Epoch 328/500\n",
            "118/118 [==============================] - 0s 4ms/step - loss: 0.3454 - accuracy: 0.9088\n",
            "Epoch 329/500\n",
            "118/118 [==============================] - 0s 4ms/step - loss: 0.3448 - accuracy: 0.9092\n",
            "Epoch 330/500\n",
            "118/118 [==============================] - 0s 4ms/step - loss: 0.3441 - accuracy: 0.9091\n",
            "Epoch 331/500\n",
            "118/118 [==============================] - 0s 4ms/step - loss: 0.3435 - accuracy: 0.9094\n",
            "Epoch 332/500\n",
            "118/118 [==============================] - 0s 4ms/step - loss: 0.3428 - accuracy: 0.9096\n",
            "Epoch 333/500\n",
            "118/118 [==============================] - 0s 4ms/step - loss: 0.3422 - accuracy: 0.9097\n",
            "Epoch 334/500\n",
            "118/118 [==============================] - 0s 4ms/step - loss: 0.3416 - accuracy: 0.9100\n",
            "Epoch 335/500\n",
            "118/118 [==============================] - 1s 4ms/step - loss: 0.3410 - accuracy: 0.9099\n",
            "Epoch 336/500\n",
            "118/118 [==============================] - 0s 4ms/step - loss: 0.3403 - accuracy: 0.9102\n",
            "Epoch 337/500\n",
            "118/118 [==============================] - 0s 4ms/step - loss: 0.3397 - accuracy: 0.9102\n",
            "Epoch 338/500\n",
            "118/118 [==============================] - 0s 4ms/step - loss: 0.3391 - accuracy: 0.9105\n",
            "Epoch 339/500\n",
            "118/118 [==============================] - 0s 4ms/step - loss: 0.3385 - accuracy: 0.9104\n",
            "Epoch 340/500\n",
            "118/118 [==============================] - 0s 4ms/step - loss: 0.3379 - accuracy: 0.9107\n",
            "Epoch 341/500\n",
            "118/118 [==============================] - 0s 4ms/step - loss: 0.3373 - accuracy: 0.9107\n",
            "Epoch 342/500\n",
            "118/118 [==============================] - 1s 5ms/step - loss: 0.3367 - accuracy: 0.9111\n",
            "Epoch 343/500\n",
            "118/118 [==============================] - 1s 5ms/step - loss: 0.3361 - accuracy: 0.9111\n",
            "Epoch 344/500\n",
            "118/118 [==============================] - 1s 5ms/step - loss: 0.3355 - accuracy: 0.9111\n",
            "Epoch 345/500\n",
            "118/118 [==============================] - 1s 5ms/step - loss: 0.3349 - accuracy: 0.9113\n",
            "Epoch 346/500\n",
            "118/118 [==============================] - 1s 5ms/step - loss: 0.3343 - accuracy: 0.9114\n",
            "Epoch 347/500\n",
            "118/118 [==============================] - 1s 6ms/step - loss: 0.3338 - accuracy: 0.9116\n",
            "Epoch 348/500\n",
            "118/118 [==============================] - 1s 6ms/step - loss: 0.3332 - accuracy: 0.9118\n",
            "Epoch 349/500\n",
            "118/118 [==============================] - 1s 6ms/step - loss: 0.3326 - accuracy: 0.9119\n",
            "Epoch 350/500\n",
            "118/118 [==============================] - 1s 6ms/step - loss: 0.3320 - accuracy: 0.9120\n",
            "Epoch 351/500\n",
            "118/118 [==============================] - 1s 5ms/step - loss: 0.3314 - accuracy: 0.9122\n",
            "Epoch 352/500\n",
            "118/118 [==============================] - 1s 5ms/step - loss: 0.3309 - accuracy: 0.9123\n",
            "Epoch 353/500\n",
            "118/118 [==============================] - 1s 5ms/step - loss: 0.3303 - accuracy: 0.9124\n",
            "Epoch 354/500\n",
            "118/118 [==============================] - 1s 5ms/step - loss: 0.3297 - accuracy: 0.9125\n",
            "Epoch 355/500\n",
            "118/118 [==============================] - 1s 5ms/step - loss: 0.3292 - accuracy: 0.9128\n",
            "Epoch 356/500\n",
            "118/118 [==============================] - 0s 4ms/step - loss: 0.3286 - accuracy: 0.9129\n",
            "Epoch 357/500\n",
            "118/118 [==============================] - 0s 4ms/step - loss: 0.3281 - accuracy: 0.9129\n",
            "Epoch 358/500\n",
            "118/118 [==============================] - 0s 4ms/step - loss: 0.3275 - accuracy: 0.9130\n",
            "Epoch 359/500\n",
            "118/118 [==============================] - 0s 4ms/step - loss: 0.3270 - accuracy: 0.9132\n",
            "Epoch 360/500\n",
            "118/118 [==============================] - 0s 4ms/step - loss: 0.3264 - accuracy: 0.9131\n",
            "Epoch 361/500\n",
            "118/118 [==============================] - 0s 4ms/step - loss: 0.3259 - accuracy: 0.9135\n",
            "Epoch 362/500\n",
            "118/118 [==============================] - 0s 4ms/step - loss: 0.3253 - accuracy: 0.9137\n",
            "Epoch 363/500\n",
            "118/118 [==============================] - 0s 4ms/step - loss: 0.3248 - accuracy: 0.9137\n",
            "Epoch 364/500\n",
            "118/118 [==============================] - 0s 4ms/step - loss: 0.3242 - accuracy: 0.9136\n",
            "Epoch 365/500\n",
            "118/118 [==============================] - 0s 4ms/step - loss: 0.3237 - accuracy: 0.9139\n",
            "Epoch 366/500\n",
            "118/118 [==============================] - 0s 4ms/step - loss: 0.3232 - accuracy: 0.9142\n",
            "Epoch 367/500\n",
            "118/118 [==============================] - 0s 4ms/step - loss: 0.3226 - accuracy: 0.9142\n",
            "Epoch 368/500\n",
            "118/118 [==============================] - 0s 4ms/step - loss: 0.3221 - accuracy: 0.9144\n",
            "Epoch 369/500\n",
            "118/118 [==============================] - 0s 4ms/step - loss: 0.3216 - accuracy: 0.9144\n",
            "Epoch 370/500\n",
            "118/118 [==============================] - 0s 4ms/step - loss: 0.3211 - accuracy: 0.9147\n",
            "Epoch 371/500\n",
            "118/118 [==============================] - 0s 4ms/step - loss: 0.3205 - accuracy: 0.9149\n",
            "Epoch 372/500\n",
            "118/118 [==============================] - 0s 4ms/step - loss: 0.3200 - accuracy: 0.9148\n",
            "Epoch 373/500\n",
            "118/118 [==============================] - 1s 4ms/step - loss: 0.3195 - accuracy: 0.9151\n",
            "Epoch 374/500\n",
            "118/118 [==============================] - 0s 4ms/step - loss: 0.3190 - accuracy: 0.9152\n",
            "Epoch 375/500\n",
            "118/118 [==============================] - 0s 4ms/step - loss: 0.3185 - accuracy: 0.9153\n",
            "Epoch 376/500\n",
            "118/118 [==============================] - 1s 5ms/step - loss: 0.3180 - accuracy: 0.9154\n",
            "Epoch 377/500\n",
            "118/118 [==============================] - 1s 5ms/step - loss: 0.3175 - accuracy: 0.9155\n",
            "Epoch 378/500\n",
            "118/118 [==============================] - 1s 5ms/step - loss: 0.3170 - accuracy: 0.9156\n",
            "Epoch 379/500\n",
            "118/118 [==============================] - 1s 5ms/step - loss: 0.3165 - accuracy: 0.9157\n",
            "Epoch 380/500\n",
            "118/118 [==============================] - 1s 5ms/step - loss: 0.3160 - accuracy: 0.9158\n",
            "Epoch 381/500\n",
            "118/118 [==============================] - 1s 5ms/step - loss: 0.3155 - accuracy: 0.9159\n",
            "Epoch 382/500\n",
            "118/118 [==============================] - 1s 5ms/step - loss: 0.3149 - accuracy: 0.9162\n",
            "Epoch 383/500\n",
            "118/118 [==============================] - 1s 5ms/step - loss: 0.3145 - accuracy: 0.9163\n",
            "Epoch 384/500\n",
            "118/118 [==============================] - 0s 4ms/step - loss: 0.3140 - accuracy: 0.9162\n",
            "Epoch 385/500\n",
            "118/118 [==============================] - 0s 4ms/step - loss: 0.3135 - accuracy: 0.9166\n",
            "Epoch 386/500\n",
            "118/118 [==============================] - 0s 4ms/step - loss: 0.3130 - accuracy: 0.9165\n",
            "Epoch 387/500\n",
            "118/118 [==============================] - 0s 4ms/step - loss: 0.3125 - accuracy: 0.9166\n",
            "Epoch 388/500\n",
            "118/118 [==============================] - 0s 4ms/step - loss: 0.3120 - accuracy: 0.9168\n",
            "Epoch 389/500\n",
            "118/118 [==============================] - 0s 4ms/step - loss: 0.3115 - accuracy: 0.9168\n",
            "Epoch 390/500\n",
            "118/118 [==============================] - 0s 4ms/step - loss: 0.3110 - accuracy: 0.9170\n",
            "Epoch 391/500\n",
            "118/118 [==============================] - 0s 4ms/step - loss: 0.3106 - accuracy: 0.9171\n",
            "Epoch 392/500\n",
            "118/118 [==============================] - 1s 4ms/step - loss: 0.3101 - accuracy: 0.9172\n",
            "Epoch 393/500\n",
            "118/118 [==============================] - 1s 4ms/step - loss: 0.3096 - accuracy: 0.9174\n",
            "Epoch 394/500\n",
            "118/118 [==============================] - 1s 4ms/step - loss: 0.3091 - accuracy: 0.9174\n",
            "Epoch 395/500\n",
            "118/118 [==============================] - 0s 4ms/step - loss: 0.3087 - accuracy: 0.9175\n",
            "Epoch 396/500\n",
            "118/118 [==============================] - 0s 4ms/step - loss: 0.3082 - accuracy: 0.9177\n",
            "Epoch 397/500\n",
            "118/118 [==============================] - 0s 4ms/step - loss: 0.3077 - accuracy: 0.9178\n",
            "Epoch 398/500\n",
            "118/118 [==============================] - 0s 4ms/step - loss: 0.3073 - accuracy: 0.9179\n",
            "Epoch 399/500\n",
            "118/118 [==============================] - 0s 4ms/step - loss: 0.3068 - accuracy: 0.9181\n",
            "Epoch 400/500\n",
            "118/118 [==============================] - 0s 4ms/step - loss: 0.3063 - accuracy: 0.9183\n",
            "Epoch 401/500\n",
            "118/118 [==============================] - 0s 4ms/step - loss: 0.3059 - accuracy: 0.9182\n",
            "Epoch 402/500\n",
            "118/118 [==============================] - 0s 4ms/step - loss: 0.3054 - accuracy: 0.9183\n",
            "Epoch 403/500\n",
            "118/118 [==============================] - 0s 4ms/step - loss: 0.3049 - accuracy: 0.9185\n",
            "Epoch 404/500\n",
            "118/118 [==============================] - 1s 5ms/step - loss: 0.3045 - accuracy: 0.9187\n",
            "Epoch 405/500\n",
            "118/118 [==============================] - 1s 5ms/step - loss: 0.3040 - accuracy: 0.9186\n",
            "Epoch 406/500\n",
            "118/118 [==============================] - 1s 5ms/step - loss: 0.3036 - accuracy: 0.9187\n",
            "Epoch 407/500\n",
            "118/118 [==============================] - 1s 5ms/step - loss: 0.3031 - accuracy: 0.9188\n",
            "Epoch 408/500\n",
            "118/118 [==============================] - 1s 5ms/step - loss: 0.3027 - accuracy: 0.9189\n",
            "Epoch 409/500\n",
            "118/118 [==============================] - 1s 5ms/step - loss: 0.3022 - accuracy: 0.9192\n",
            "Epoch 410/500\n",
            "118/118 [==============================] - 1s 5ms/step - loss: 0.3018 - accuracy: 0.9192\n",
            "Epoch 411/500\n",
            "118/118 [==============================] - 1s 5ms/step - loss: 0.3013 - accuracy: 0.9193\n",
            "Epoch 412/500\n",
            "118/118 [==============================] - 0s 4ms/step - loss: 0.3009 - accuracy: 0.9194\n",
            "Epoch 413/500\n",
            "118/118 [==============================] - 0s 4ms/step - loss: 0.3004 - accuracy: 0.9197\n",
            "Epoch 414/500\n",
            "118/118 [==============================] - 0s 4ms/step - loss: 0.3000 - accuracy: 0.9199\n",
            "Epoch 415/500\n",
            "118/118 [==============================] - 0s 4ms/step - loss: 0.2996 - accuracy: 0.9200\n",
            "Epoch 416/500\n",
            "118/118 [==============================] - 0s 4ms/step - loss: 0.2991 - accuracy: 0.9202\n",
            "Epoch 417/500\n",
            "118/118 [==============================] - 0s 4ms/step - loss: 0.2987 - accuracy: 0.9201\n",
            "Epoch 418/500\n",
            "118/118 [==============================] - 0s 4ms/step - loss: 0.2982 - accuracy: 0.9204\n",
            "Epoch 419/500\n",
            "118/118 [==============================] - 0s 4ms/step - loss: 0.2978 - accuracy: 0.9205\n",
            "Epoch 420/500\n",
            "118/118 [==============================] - 0s 4ms/step - loss: 0.2974 - accuracy: 0.9207\n",
            "Epoch 421/500\n",
            "118/118 [==============================] - 0s 4ms/step - loss: 0.2969 - accuracy: 0.9206\n",
            "Epoch 422/500\n",
            "118/118 [==============================] - 0s 4ms/step - loss: 0.2965 - accuracy: 0.9207\n",
            "Epoch 423/500\n",
            "118/118 [==============================] - 0s 4ms/step - loss: 0.2961 - accuracy: 0.9208\n",
            "Epoch 424/500\n",
            "118/118 [==============================] - 0s 4ms/step - loss: 0.2957 - accuracy: 0.9211\n",
            "Epoch 425/500\n",
            "118/118 [==============================] - 0s 4ms/step - loss: 0.2952 - accuracy: 0.9212\n",
            "Epoch 426/500\n",
            "118/118 [==============================] - 0s 4ms/step - loss: 0.2948 - accuracy: 0.9214\n",
            "Epoch 427/500\n",
            "118/118 [==============================] - 0s 4ms/step - loss: 0.2944 - accuracy: 0.9213\n",
            "Epoch 428/500\n",
            "118/118 [==============================] - 0s 4ms/step - loss: 0.2940 - accuracy: 0.9214\n",
            "Epoch 429/500\n",
            "118/118 [==============================] - 0s 4ms/step - loss: 0.2935 - accuracy: 0.9216\n",
            "Epoch 430/500\n",
            "118/118 [==============================] - 0s 4ms/step - loss: 0.2931 - accuracy: 0.9218\n",
            "Epoch 431/500\n",
            "118/118 [==============================] - 0s 4ms/step - loss: 0.2927 - accuracy: 0.9219\n",
            "Epoch 432/500\n",
            "118/118 [==============================] - 1s 5ms/step - loss: 0.2923 - accuracy: 0.9219\n",
            "Epoch 433/500\n",
            "118/118 [==============================] - 1s 5ms/step - loss: 0.2919 - accuracy: 0.9220\n",
            "Epoch 434/500\n",
            "118/118 [==============================] - 1s 5ms/step - loss: 0.2915 - accuracy: 0.9221\n",
            "Epoch 435/500\n",
            "118/118 [==============================] - 1s 5ms/step - loss: 0.2911 - accuracy: 0.9223\n",
            "Epoch 436/500\n",
            "118/118 [==============================] - 1s 5ms/step - loss: 0.2906 - accuracy: 0.9224\n",
            "Epoch 437/500\n",
            "118/118 [==============================] - 1s 5ms/step - loss: 0.2902 - accuracy: 0.9224\n",
            "Epoch 438/500\n",
            "118/118 [==============================] - 1s 5ms/step - loss: 0.2898 - accuracy: 0.9225\n",
            "Epoch 439/500\n",
            "118/118 [==============================] - 1s 5ms/step - loss: 0.2894 - accuracy: 0.9226\n",
            "Epoch 440/500\n",
            "118/118 [==============================] - 1s 4ms/step - loss: 0.2890 - accuracy: 0.9228\n",
            "Epoch 441/500\n",
            "118/118 [==============================] - 0s 4ms/step - loss: 0.2886 - accuracy: 0.9229\n",
            "Epoch 442/500\n",
            "118/118 [==============================] - 0s 4ms/step - loss: 0.2882 - accuracy: 0.9232\n",
            "Epoch 443/500\n",
            "118/118 [==============================] - 0s 4ms/step - loss: 0.2878 - accuracy: 0.9231\n",
            "Epoch 444/500\n",
            "118/118 [==============================] - 0s 4ms/step - loss: 0.2874 - accuracy: 0.9231\n",
            "Epoch 445/500\n",
            "118/118 [==============================] - 0s 4ms/step - loss: 0.2870 - accuracy: 0.9233\n",
            "Epoch 446/500\n",
            "118/118 [==============================] - 1s 4ms/step - loss: 0.2866 - accuracy: 0.9234\n",
            "Epoch 447/500\n",
            "118/118 [==============================] - 0s 4ms/step - loss: 0.2862 - accuracy: 0.9235\n",
            "Epoch 448/500\n",
            "118/118 [==============================] - 1s 4ms/step - loss: 0.2858 - accuracy: 0.9237\n",
            "Epoch 449/500\n",
            "118/118 [==============================] - 0s 4ms/step - loss: 0.2854 - accuracy: 0.9236\n",
            "Epoch 450/500\n",
            "118/118 [==============================] - 0s 4ms/step - loss: 0.2850 - accuracy: 0.9238\n",
            "Epoch 451/500\n",
            "118/118 [==============================] - 0s 4ms/step - loss: 0.2846 - accuracy: 0.9240\n",
            "Epoch 452/500\n",
            "118/118 [==============================] - 0s 4ms/step - loss: 0.2842 - accuracy: 0.9238\n",
            "Epoch 453/500\n",
            "118/118 [==============================] - 1s 4ms/step - loss: 0.2838 - accuracy: 0.9240\n",
            "Epoch 454/500\n",
            "118/118 [==============================] - 0s 4ms/step - loss: 0.2835 - accuracy: 0.9241\n",
            "Epoch 455/500\n",
            "118/118 [==============================] - 0s 4ms/step - loss: 0.2831 - accuracy: 0.9242\n",
            "Epoch 456/500\n",
            "118/118 [==============================] - 1s 4ms/step - loss: 0.2827 - accuracy: 0.9244\n",
            "Epoch 457/500\n",
            "118/118 [==============================] - 1s 5ms/step - loss: 0.2823 - accuracy: 0.9245\n",
            "Epoch 458/500\n",
            "118/118 [==============================] - 1s 4ms/step - loss: 0.2819 - accuracy: 0.9246\n",
            "Epoch 459/500\n",
            "118/118 [==============================] - 1s 4ms/step - loss: 0.2815 - accuracy: 0.9247\n",
            "Epoch 460/500\n",
            "118/118 [==============================] - 1s 6ms/step - loss: 0.2811 - accuracy: 0.9248\n",
            "Epoch 461/500\n",
            "118/118 [==============================] - 1s 5ms/step - loss: 0.2808 - accuracy: 0.9248\n",
            "Epoch 462/500\n",
            "118/118 [==============================] - 1s 6ms/step - loss: 0.2804 - accuracy: 0.9250\n",
            "Epoch 463/500\n",
            "118/118 [==============================] - 1s 6ms/step - loss: 0.2800 - accuracy: 0.9249\n",
            "Epoch 464/500\n",
            "118/118 [==============================] - 1s 6ms/step - loss: 0.2796 - accuracy: 0.9251\n",
            "Epoch 465/500\n",
            "118/118 [==============================] - 1s 6ms/step - loss: 0.2792 - accuracy: 0.9252\n",
            "Epoch 466/500\n",
            "118/118 [==============================] - 1s 7ms/step - loss: 0.2789 - accuracy: 0.9252\n",
            "Epoch 467/500\n",
            "118/118 [==============================] - 1s 6ms/step - loss: 0.2785 - accuracy: 0.9254\n",
            "Epoch 468/500\n",
            "118/118 [==============================] - 1s 6ms/step - loss: 0.2781 - accuracy: 0.9253\n",
            "Epoch 469/500\n",
            "118/118 [==============================] - 1s 6ms/step - loss: 0.2777 - accuracy: 0.9255\n",
            "Epoch 470/500\n",
            "118/118 [==============================] - 1s 5ms/step - loss: 0.2774 - accuracy: 0.9256\n",
            "Epoch 471/500\n",
            "118/118 [==============================] - 1s 5ms/step - loss: 0.2770 - accuracy: 0.9255\n",
            "Epoch 472/500\n",
            "118/118 [==============================] - 1s 4ms/step - loss: 0.2766 - accuracy: 0.9258\n",
            "Epoch 473/500\n",
            "118/118 [==============================] - 0s 4ms/step - loss: 0.2763 - accuracy: 0.9258\n",
            "Epoch 474/500\n",
            "118/118 [==============================] - 1s 4ms/step - loss: 0.2759 - accuracy: 0.9260\n",
            "Epoch 475/500\n",
            "118/118 [==============================] - 0s 4ms/step - loss: 0.2755 - accuracy: 0.9261\n",
            "Epoch 476/500\n",
            "118/118 [==============================] - 0s 4ms/step - loss: 0.2752 - accuracy: 0.9263\n",
            "Epoch 477/500\n",
            "118/118 [==============================] - 0s 4ms/step - loss: 0.2748 - accuracy: 0.9263\n",
            "Epoch 478/500\n",
            "118/118 [==============================] - 0s 4ms/step - loss: 0.2744 - accuracy: 0.9264\n",
            "Epoch 479/500\n",
            "118/118 [==============================] - 1s 4ms/step - loss: 0.2741 - accuracy: 0.9265\n",
            "Epoch 480/500\n",
            "118/118 [==============================] - 1s 4ms/step - loss: 0.2737 - accuracy: 0.9267\n",
            "Epoch 481/500\n",
            "118/118 [==============================] - 1s 4ms/step - loss: 0.2733 - accuracy: 0.9266\n",
            "Epoch 482/500\n",
            "118/118 [==============================] - 0s 4ms/step - loss: 0.2730 - accuracy: 0.9268\n",
            "Epoch 483/500\n",
            "118/118 [==============================] - 1s 4ms/step - loss: 0.2726 - accuracy: 0.9270\n",
            "Epoch 484/500\n",
            "118/118 [==============================] - 0s 4ms/step - loss: 0.2723 - accuracy: 0.9268\n",
            "Epoch 485/500\n",
            "118/118 [==============================] - 0s 4ms/step - loss: 0.2719 - accuracy: 0.9271\n",
            "Epoch 486/500\n",
            "118/118 [==============================] - 0s 4ms/step - loss: 0.2716 - accuracy: 0.9271\n",
            "Epoch 487/500\n",
            "118/118 [==============================] - 1s 4ms/step - loss: 0.2712 - accuracy: 0.9271\n",
            "Epoch 488/500\n",
            "118/118 [==============================] - 1s 4ms/step - loss: 0.2708 - accuracy: 0.9273\n",
            "Epoch 489/500\n",
            "118/118 [==============================] - 1s 5ms/step - loss: 0.2705 - accuracy: 0.9274\n",
            "Epoch 490/500\n",
            "118/118 [==============================] - 1s 5ms/step - loss: 0.2701 - accuracy: 0.9275\n",
            "Epoch 491/500\n",
            "118/118 [==============================] - 1s 5ms/step - loss: 0.2698 - accuracy: 0.9276\n",
            "Epoch 492/500\n",
            "118/118 [==============================] - 1s 5ms/step - loss: 0.2694 - accuracy: 0.9278\n",
            "Epoch 493/500\n",
            "118/118 [==============================] - 1s 5ms/step - loss: 0.2691 - accuracy: 0.9278\n",
            "Epoch 494/500\n",
            "118/118 [==============================] - 1s 6ms/step - loss: 0.2687 - accuracy: 0.9277\n",
            "Epoch 495/500\n",
            "118/118 [==============================] - 1s 5ms/step - loss: 0.2684 - accuracy: 0.9280\n",
            "Epoch 496/500\n",
            "118/118 [==============================] - 1s 5ms/step - loss: 0.2680 - accuracy: 0.9279\n",
            "Epoch 497/500\n",
            "118/118 [==============================] - 1s 5ms/step - loss: 0.2677 - accuracy: 0.9281\n",
            "Epoch 498/500\n",
            "118/118 [==============================] - 0s 4ms/step - loss: 0.2673 - accuracy: 0.9281\n",
            "Epoch 499/500\n",
            "118/118 [==============================] - 0s 4ms/step - loss: 0.2670 - accuracy: 0.9283\n",
            "Epoch 500/500\n",
            "118/118 [==============================] - 1s 4ms/step - loss: 0.2667 - accuracy: 0.9285\n"
          ]
        },
        {
          "output_type": "execute_result",
          "data": {
            "text/plain": [
              "<keras.callbacks.History at 0x7f38c95fda00>"
            ]
          },
          "metadata": {},
          "execution_count": 21
        }
      ]
    },
    {
      "cell_type": "markdown",
      "metadata": {
        "id": "heVasO26zp6V"
      },
      "source": [
        "- Two quantities are displayed during training:\n",
        "    - The loss of the network over the training data\n",
        "    - The accuracy of the network over the training data\n",
        "    \n",
        "- We quickly reach an accuracy of **$0.9886 (98.86\\%)$** on the training data."
      ]
    },
    {
      "cell_type": "markdown",
      "metadata": {
        "id": "0eDaNGAYzp6X"
      },
      "source": [
        "- Now let's check that the model performs well on the test set, too:"
      ]
    },
    {
      "cell_type": "code",
      "metadata": {
        "id": "2-UhmyTWzp6Y",
        "colab": {
          "base_uri": "https://localhost:8080/"
        },
        "outputId": "ebdbb10b-d4f2-45a3-dcaa-c07f36189107"
      },
      "source": [
        "test_loss, test_acc = network.evaluate(test_images, test_labels)"
      ],
      "execution_count": 22,
      "outputs": [
        {
          "output_type": "stream",
          "name": "stdout",
          "text": [
            "313/313 [==============================] - 1s 2ms/step - loss: 0.2703 - accuracy: 0.9257\n"
          ]
        }
      ]
    },
    {
      "cell_type": "code",
      "metadata": {
        "id": "omz-cZXLzp6d",
        "colab": {
          "base_uri": "https://localhost:8080/"
        },
        "outputId": "c4694fce-970a-4f2c-bde3-b5e376fb441e"
      },
      "source": [
        "print('Test Accuracy: {:.5f} '.format(test_acc))"
      ],
      "execution_count": 23,
      "outputs": [
        {
          "output_type": "stream",
          "name": "stdout",
          "text": [
            "Test Accuracy: 0.92570 \n"
          ]
        }
      ]
    },
    {
      "cell_type": "code",
      "metadata": {
        "id": "cbIp64KFzp6g",
        "colab": {
          "base_uri": "https://localhost:8080/"
        },
        "outputId": "943d0c1a-d66a-450d-e663-4396064bd4a0"
      },
      "source": [
        "test_acc"
      ],
      "execution_count": 24,
      "outputs": [
        {
          "output_type": "execute_result",
          "data": {
            "text/plain": [
              "0.9257000088691711"
            ]
          },
          "metadata": {},
          "execution_count": 24
        }
      ]
    },
    {
      "cell_type": "markdown",
      "metadata": {
        "id": "yi5jDr-0zp6k"
      },
      "source": [
        "- The test-set accuracy turns out to be $97.780\\%$--that is quite a bit lower than the training set accuracy. This gap between training and test accuracy is an example of **overfitting**:the fact that the ML models tend to perform worse on new data than on their training data."
      ]
    },
    {
      "cell_type": "code",
      "metadata": {
        "id": "JOu1IQW6zp6l",
        "colab": {
          "base_uri": "https://localhost:8080/",
          "height": 369
        },
        "outputId": "b300c0d4-c056-45a9-e998-b7412e03d50c"
      },
      "source": [
        "from keras.utils import plot_model\n",
        "plot_model(network, to_file='model.png')"
      ],
      "execution_count": 25,
      "outputs": [
        {
          "output_type": "execute_result",
          "data": {
            "image/png": "[encoded data removed]",
            "text/plain": [
              "<IPython.core.display.Image object>"
            ]
          },
          "metadata": {},
          "execution_count": 25
        }
      ]
    },
    {
      "cell_type": "code",
      "metadata": {
        "id": "LVvUxpAkOQuz",
        "colab": {
          "base_uri": "https://localhost:8080/",
          "height": 764
        },
        "outputId": "f31e629c-ca77-455a-b939-14634cb3fabe"
      },
      "source": [
        "import matplotlib.pyplot as plt\n",
        "history =network.fit(train_images, train_labels, validation_split=0.33,epochs=5, batch_size=512)\n",
        "history_dict = history.history\n",
        "print(history_dict.keys())\n",
        "plt.plot(history.history['accuracy'])\n",
        "plt.plot(history.history['val_accuracy'])\n",
        "plt.title('Model accuracy')\n",
        "plt.ylabel('Accuracy')\n",
        "plt.xlabel('Epoch')\n",
        "plt.legend(['Train', 'Test'], loc='upper left')\n",
        "plt.show()\n",
        "\n",
        "# Plot training & validation loss values\n",
        "plt.plot(history.history['loss'])\n",
        "plt.plot(history.history['val_loss'])\n",
        "plt.title('Model loss')\n",
        "plt.ylabel('Loss')\n",
        "plt.xlabel('Epoch')\n",
        "plt.legend(['Train', 'Test'], loc='upper left')\n",
        "plt.show()"
      ],
      "execution_count": 26,
      "outputs": [
        {
          "output_type": "stream",
          "name": "stdout",
          "text": [
            "Epoch 1/5\n",
            "79/79 [==============================] - 1s 10ms/step - loss: 0.2678 - accuracy: 0.9282 - val_loss: 0.2633 - val_accuracy: 0.9298\n",
            "Epoch 2/5\n",
            "79/79 [==============================] - 1s 9ms/step - loss: 0.2675 - accuracy: 0.9283 - val_loss: 0.2632 - val_accuracy: 0.9297\n",
            "Epoch 3/5\n",
            "79/79 [==============================] - 1s 11ms/step - loss: 0.2673 - accuracy: 0.9283 - val_loss: 0.2631 - val_accuracy: 0.9296\n",
            "Epoch 4/5\n",
            "79/79 [==============================] - 1s 9ms/step - loss: 0.2670 - accuracy: 0.9283 - val_loss: 0.2630 - val_accuracy: 0.9294\n",
            "Epoch 5/5\n",
            "79/79 [==============================] - 1s 10ms/step - loss: 0.2667 - accuracy: 0.9284 - val_loss: 0.2628 - val_accuracy: 0.9293\n",
            "dict_keys(['loss', 'accuracy', 'val_loss', 'val_accuracy'])\n"
          ]
        },
        {
          "output_type": "display_data",
          "data": {
            "text/plain": [
              "<Figure size 432x288 with 1 Axes>"
            ],
            "image/png": "[encoded data removed]"
          },
          "metadata": {
            "needs_background": "light"
          }
        },
        {
          "output_type": "display_data",
          "data": {
            "text/plain": [
              "<Figure size 432x288 with 1 Axes>"
            ],
            "image/png": "[encoded data removed]"
          },
          "metadata": {
            "needs_background": "light"
          }
        }
      ]
    }
  ]
}